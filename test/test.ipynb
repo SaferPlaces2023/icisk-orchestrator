{
 "cells": [
  {
   "cell_type": "code",
   "execution_count": 1,
   "id": "da98b06e",
   "metadata": {},
   "outputs": [],
   "source": [
    "a = {'a':1}"
   ]
  },
  {
   "cell_type": "code",
   "execution_count": 15,
   "id": "9d59c0e8",
   "metadata": {},
   "outputs": [
    {
     "data": {
      "text/plain": [
       "1"
      ]
     },
     "execution_count": 15,
     "metadata": {},
     "output_type": "execute_result"
    }
   ],
   "source": [
    "import ast \n",
    "content = \"\"\"```python\n",
    "{'a':1}\n",
    "```\n",
    "\"\"\"\n",
    "if type(content) is str and content.startswith('```'):\n",
    "    content = content.split('```python')[1].split('```')[0]\n",
    "ast.literal_eval(content)['a']"
   ]
  },
  {
   "cell_type": "code",
   "execution_count": 8,
   "id": "322dd90b",
   "metadata": {},
   "outputs": [
    {
     "data": {
      "text/plain": [
       "\"\\n{'a':1}\\n\""
      ]
     },
     "execution_count": 8,
     "metadata": {},
     "output_type": "execute_result"
    }
   ],
   "source": [
    "content"
   ]
  },
  {
   "cell_type": "code",
   "execution_count": 5,
   "id": "1b4eb989",
   "metadata": {},
   "outputs": [
    {
     "data": {
      "text/plain": [
       "['reanalysis_era5_land_monthly_means', 'reanalysis_era5_land']"
      ]
     },
     "execution_count": 5,
     "metadata": {},
     "output_type": "execute_result"
    }
   ],
   "source": [
    "from enum import Enum\n",
    "class InputHistoricCDSDataset(str, Enum):\n",
    "    reanalysis_era5_land_monthly_means = \"reanalysis-era5-land-monthly-means\"\n",
    "    reanalysis_era5_land = \"reanalysis-era5-land\"\n",
    "InputHistoricCDSDataset._member_names_"
   ]
  },
  {
   "cell_type": "code",
   "execution_count": 4,
   "id": "60154d6f",
   "metadata": {},
   "outputs": [
    {
     "data": {
      "text/plain": [
       "<db.db_schema.Notebook at 0x1dbc29cb710>"
      ]
     },
     "execution_count": 4,
     "metadata": {},
     "output_type": "execute_result"
    }
   ],
   "source": [
    "DBI.notebook_by_name(author='admin', notebook_name='icisk-ai_spi-historic-calculation_2025-04-22T21-53-16.ipynb')"
   ]
  },
  {
   "cell_type": "code",
   "execution_count": 18,
   "id": "4216eb3d",
   "metadata": {},
   "outputs": [],
   "source": [
    "import os\n",
    "\n",
    "import nbformat as nbf\n",
    "\n",
    "from bson import ObjectId\n",
    "\n",
    "\n",
    "class Collections():\n",
    "    \"\"\"\n",
    "    Class representing the collections in the database.\n",
    "    \"\"\"\n",
    "    \n",
    "    USERS = 'users'\n",
    "    NOTEBOOKS = 'notebooks'\n",
    "\n",
    "\n",
    "class Record():\n",
    "    \"\"\"\n",
    "    Base record in a mongodb collection.\n",
    "    \"\"\"\n",
    "    \n",
    "    def __init__(self, _id: str | ObjectId = None):\n",
    "        if isinstance(_id, str):\n",
    "            self._id = ObjectId(_id)\n",
    "        else:\n",
    "            self._id = _id\n",
    "            \n",
    "    @property\n",
    "    def as_dict(self):\n",
    "        \"\"\"\n",
    "        Convert the record to a dictionary.\n",
    "        \"\"\"\n",
    "        return self.__dict__\n",
    "    \n",
    "    @classmethod\n",
    "    def from_dict(cls, d):\n",
    "        return cls(**d)\n",
    "  \n",
    "  \n",
    "\n",
    "class User(Record):\n",
    "    \"\"\"\n",
    "    Class representing a user in mongodb\n",
    "    \"\"\"\n",
    "    \n",
    "    def __init__(self, user_id: str, email: str, **kwargs):\n",
    "        super().__init__(**kwargs)\n",
    "        self.user_id = user_id\n",
    "        self.email = email\n",
    "        \n",
    "    @property\n",
    "    def as_dict(self):\n",
    "        \"\"\"\n",
    "        Convert the user to a dictionary.\n",
    "        \"\"\"\n",
    "        obj = super().as_dict\n",
    "        return obj\n",
    "      \n",
    "\n",
    "\n",
    "class Notebook(Record):\n",
    "    \"\"\"\n",
    "    Class representing a notebook in mongodb\n",
    "    \"\"\"\n",
    "    \n",
    "    def __init__(\n",
    "            self, \n",
    "            name: str, \n",
    "            source: str | nbf.NotebookNode = \"{\\\"cells\\\": []}\",     # DOC: Empty notebook by default\n",
    "            authors: str | list[str] = [],                          # DOC: No author by default\n",
    "            description: str = None,\n",
    "            **kwargs\n",
    "        ):\n",
    "        super().__init__(**kwargs)\n",
    "        self.name = name\n",
    "        self.source = nbf.reads(source, as_version=4) if isinstance(source, str) else source\n",
    "        self.authors = authors if isinstance(authors, list) else [authors]\n",
    "        self.description = description\n",
    "        \n",
    "    @property\n",
    "    def as_dict(self):\n",
    "        \"\"\"\n",
    "        Convert the notebook to a dictionary.\n",
    "        \"\"\"\n",
    "        obj = super().as_dict\n",
    "        obj['source'] = nbf.writes(self.source)\n",
    "        return obj\n",
    "    "
   ]
  },
  {
   "cell_type": "code",
   "execution_count": 20,
   "id": "0e6bb95e",
   "metadata": {},
   "outputs": [],
   "source": [
    "from db import db_utils, DBS"
   ]
  },
  {
   "cell_type": "code",
   "execution_count": 21,
   "id": "581404a1",
   "metadata": {},
   "outputs": [
    {
     "ename": "TypeError",
     "evalue": "Record.from_dict() got an unexpected keyword argument 'name'",
     "output_type": "error",
     "traceback": [
      "\u001b[31m---------------------------------------------------------------------------\u001b[39m",
      "\u001b[31mTypeError\u001b[39m                                 Traceback (most recent call last)",
      "\u001b[36mCell\u001b[39m\u001b[36m \u001b[39m\u001b[32mIn[21]\u001b[39m\u001b[32m, line 1\u001b[39m\n\u001b[32m----> \u001b[39m\u001b[32m1\u001b[39m \u001b[43mdb_utils\u001b[49m\u001b[43m.\u001b[49m\u001b[43mcast_to_schema\u001b[49m\u001b[43m(\u001b[49m\n\u001b[32m      2\u001b[39m \u001b[43m    \u001b[49m\u001b[43mDBS\u001b[49m\u001b[43m.\u001b[49m\u001b[43mNotebook\u001b[49m\u001b[43m,\u001b[49m\u001b[43m \u001b[49m\n\u001b[32m      3\u001b[39m \u001b[43m    \u001b[49m\u001b[43m{\u001b[49m\n\u001b[32m      4\u001b[39m \u001b[43m        \u001b[49m\u001b[33;43m'\u001b[39;49m\u001b[33;43mname\u001b[39;49m\u001b[33;43m'\u001b[39;49m\u001b[43m:\u001b[49m\u001b[43m \u001b[49m\u001b[38;5;28;43mstr\u001b[39;49m\u001b[43m,\u001b[49m\n\u001b[32m      5\u001b[39m \u001b[43m        \u001b[49m\u001b[33;43m'\u001b[39;49m\u001b[33;43msource\u001b[39;49m\u001b[33;43m'\u001b[39;49m\u001b[43m:\u001b[49m\u001b[43m \u001b[49m\u001b[38;5;28;43mstr\u001b[39;49m\u001b[43m,\u001b[49m\n\u001b[32m      6\u001b[39m \u001b[43m        \u001b[49m\u001b[33;43m'\u001b[39;49m\u001b[33;43mauthors\u001b[39;49m\u001b[33;43m'\u001b[39;49m\u001b[43m:\u001b[49m\u001b[43m \u001b[49m\u001b[38;5;28;43mlist\u001b[39;49m\u001b[43m,\u001b[49m\n\u001b[32m      7\u001b[39m \u001b[43m        \u001b[49m\u001b[33;43m'\u001b[39;49m\u001b[33;43mdescription\u001b[39;49m\u001b[33;43m'\u001b[39;49m\u001b[43m:\u001b[49m\u001b[43m \u001b[49m\u001b[38;5;28;43mstr\u001b[39;49m\u001b[43m,\u001b[49m\n\u001b[32m      8\u001b[39m \u001b[43m    \u001b[49m\u001b[43m}\u001b[49m\n\u001b[32m      9\u001b[39m \u001b[43m)\u001b[49m\n",
      "\u001b[36mFile \u001b[39m\u001b[32m~\\Documents\\Tommaso\\Lavoro\\Geco\\Progetti\\ICisk\\icisk-orchestrator\\src\\icisk_orchestrator\\db\\db_utils.py:21\u001b[39m, in \u001b[36mcast_to_schema\u001b[39m\u001b[34m(schema, record)\u001b[39m\n\u001b[32m     19\u001b[39m     \u001b[38;5;28;01mreturn\u001b[39;00m [schema.from_dict(**r) \u001b[38;5;28;01mfor\u001b[39;00m r \u001b[38;5;129;01min\u001b[39;00m record]\n\u001b[32m     20\u001b[39m \u001b[38;5;28;01melse\u001b[39;00m:\n\u001b[32m---> \u001b[39m\u001b[32m21\u001b[39m     \u001b[38;5;28;01mreturn\u001b[39;00m \u001b[43mschema\u001b[49m\u001b[43m.\u001b[49m\u001b[43mfrom_dict\u001b[49m\u001b[43m(\u001b[49m\u001b[43m*\u001b[49m\u001b[43m*\u001b[49m\u001b[43mrecord\u001b[49m\u001b[43m)\u001b[49m\n",
      "\u001b[31mTypeError\u001b[39m: Record.from_dict() got an unexpected keyword argument 'name'"
     ]
    }
   ],
   "source": [
    "db_utils.cast_to_schema(\n",
    "    DBS.Notebook, \n",
    "    {\n",
    "        'name': str,\n",
    "        'source': str,\n",
    "        'authors': list,\n",
    "        'description': str,\n",
    "    }\n",
    ")"
   ]
  },
  {
   "cell_type": "code",
   "execution_count": 17,
   "id": "b25647c3",
   "metadata": {},
   "outputs": [
    {
     "name": "stdout",
     "output_type": "stream",
     "text": [
      "Hello user number 42 aaaaa\n"
     ]
    }
   ],
   "source": [
    "obj = MyClass()\n",
    "obj.greet(42, 'aaaaa')"
   ]
  },
  {
   "cell_type": "code",
   "execution_count": 5,
   "id": "90c92118",
   "metadata": {},
   "outputs": [
    {
     "data": {
      "text/plain": [
       "{'nbformat': 4,\n",
       " 'metadata': {'orig_nbformat': 2, 'orig_nbformat_minor': 0},\n",
       " 'nbformat_minor': 5,\n",
       " 'cells': []}"
      ]
     },
     "execution_count": 5,
     "metadata": {},
     "output_type": "execute_result"
    }
   ],
   "source": [
    "import nbformat as nbf\n",
    "nbf.reads(\"{\\\"cells\\\": []}\", as_version=4)"
   ]
  },
  {
   "cell_type": "code",
   "execution_count": 5,
   "id": "18e7680d",
   "metadata": {},
   "outputs": [
    {
     "data": {
      "text/plain": [
       "'import os\\nimport sys'"
      ]
     },
     "execution_count": 5,
     "metadata": {},
     "output_type": "execute_result"
    }
   ],
   "source": [
    "source_code = \"\"\"```python\n",
    "import os\n",
    "import sys\n",
    "```\"\"\"\n",
    "\n",
    "if source_code.startswith('```python\\n'):\n",
    "    source_code = source_code.split('```python\\n')[1].split('\\n```')[0]\n",
    "source_code"
   ]
  },
  {
   "cell_type": "code",
   "execution_count": 164,
   "id": "fde50f92",
   "metadata": {},
   "outputs": [
    {
     "name": "stdout",
     "output_type": "stream",
     "text": [
      "teaast 32 1\n"
     ]
    }
   ],
   "source": [
    "class A:\n",
    "    def __init__(self, name):\n",
    "        self.name = name\n",
    "        self.a = 1\n",
    "\n",
    "    @classmethod\n",
    "    def from_dict(cls, d):\n",
    "        return cls(**d)\n",
    "\n",
    "class B(A):\n",
    "    def __init__(self, name, age):\n",
    "        super().__init__(name)\n",
    "        self.age = age\n",
    "\n",
    "# Creazione dell'oggetto tramite from_dict\n",
    "b = B.from_dict({'name': 'teaast', 'age': 32})\n",
    "print(b.name, b.age, b.a)"
   ]
  },
  {
   "cell_type": "code",
   "execution_count": 165,
   "id": "9707d169",
   "metadata": {},
   "outputs": [],
   "source": [
    "import os\n",
    "\n",
    "import nbformat as nbf\n",
    "\n",
    "from bson import ObjectId\n",
    "\n",
    "\n",
    "class Collections():\n",
    "    \"\"\"\n",
    "    Class representing the collections in the database.\n",
    "    \"\"\"\n",
    "    \n",
    "    USERS = 'users'\n",
    "    NOTEBOOKS = 'notebooks'\n",
    "\n",
    "\n",
    "class Record():\n",
    "    \"\"\"\n",
    "    Base record in a mongodb collection.\n",
    "    \"\"\"\n",
    "    \n",
    "    def __init__(self, _id: str | ObjectId = None):\n",
    "        if isinstance(_id, str):\n",
    "            self._id = ObjectId(_id)\n",
    "        else:\n",
    "            self._id = _id\n",
    "            \n",
    "    @property\n",
    "    def as_dict(self):\n",
    "        \"\"\"\n",
    "        Convert the record to a dictionary.\n",
    "        \"\"\"\n",
    "        return self.__dict__\n",
    "    \n",
    "    @classmethod\n",
    "    def from_dict(cls, d):\n",
    "        return cls(**d)\n",
    "        \n",
    "\n",
    "\n",
    "class Notebook(Record):\n",
    "    \"\"\"\n",
    "    Class representing a notebook in mongodb\n",
    "    \"\"\"\n",
    "    \n",
    "    def __init__(\n",
    "            self, \n",
    "            name: str, \n",
    "            source: str | nbf.NotebookNode,\n",
    "            authors: str | list[str],\n",
    "            description: str = None,\n",
    "            **kwargs\n",
    "        ):\n",
    "        super().__init__(**kwargs)\n",
    "        self.name = name\n",
    "        self.source = nbf.reads(source) if isinstance(source, str) else source\n",
    "        self.authors = authors if isinstance(authors, list) else [authors]\n",
    "        self.description = description\n",
    "        \n",
    "    @property\n",
    "    def as_dict(self):\n",
    "        \"\"\"\n",
    "        Convert the notebook to a dictionary.\n",
    "        \"\"\"\n",
    "        obj = super().as_dict\n",
    "        obj.update({\n",
    "            'name': self.name,\n",
    "            'source': nbf.writes(self.source),\n",
    "            'authors': self.authors,\n",
    "            'description': self.description\n",
    "        })\n",
    "        return obj\n",
    "    "
   ]
  },
  {
   "cell_type": "code",
   "execution_count": 166,
   "id": "4a622682",
   "metadata": {},
   "outputs": [
    {
     "data": {
      "text/plain": [
       "<__main__.Notebook at 0x1e2f521bad0>"
      ]
     },
     "execution_count": 166,
     "metadata": {},
     "output_type": "execute_result"
    }
   ],
   "source": [
    "Notebook.from_dict({\n",
    "    'name':'nb',\n",
    "    'source':nbf.read('test.ipynb', as_version=4),\n",
    "    'authors':['author'],\n",
    "    'description':'description',\n",
    "})"
   ]
  },
  {
   "cell_type": "code",
   "execution_count": 4,
   "id": "055ef6ed",
   "metadata": {},
   "outputs": [
    {
     "data": {
      "text/plain": [
       "InsertOneResult(ObjectId('6800dda41fccbafa4237b0fb'), acknowledged=True)"
      ]
     },
     "execution_count": 4,
     "metadata": {},
     "output_type": "execute_result"
    }
   ],
   "source": [
    "DBI.db['users'].insert_one({\n",
    "    'user_id': 'admin',\n",
    "    'mail': 'tommaso.redaelli@gecosistema.com'\n",
    "})"
   ]
  },
  {
   "cell_type": "code",
   "execution_count": 1,
   "id": "f7b09f1b",
   "metadata": {},
   "outputs": [],
   "source": [
    "import json"
   ]
  },
  {
   "cell_type": "code",
   "execution_count": 3,
   "id": "53d4a43d",
   "metadata": {},
   "outputs": [
    {
     "data": {
      "text/plain": [
       "{'a': 2}"
      ]
     },
     "execution_count": 3,
     "metadata": {},
     "output_type": "execute_result"
    }
   ],
   "source": [
    "a = {'a':1}\n",
    "a.update({'a':2})\n",
    "a"
   ]
  },
  {
   "cell_type": "code",
   "execution_count": 22,
   "id": "6727a313",
   "metadata": {},
   "outputs": [
    {
     "data": {
      "text/plain": [
       "'aaa'"
      ]
     },
     "execution_count": 22,
     "metadata": {},
     "output_type": "execute_result"
    }
   ],
   "source": [
    "a = {'x': 'aaa'}\n",
    "a.get('x') or 'def'"
   ]
  }
 ],
 "metadata": {
  "kernelspec": {
   "display_name": "venv",
   "language": "python",
   "name": "python3"
  },
  "language_info": {
   "codemirror_mode": {
    "name": "ipython",
    "version": 3
   },
   "file_extension": ".py",
   "mimetype": "text/x-python",
   "name": "python",
   "nbconvert_exporter": "python",
   "pygments_lexer": "ipython3",
   "version": "3.11.0"
  }
 },
 "nbformat": 4,
 "nbformat_minor": 5
}
